{
 "cells": [
  {
   "cell_type": "code",
   "execution_count": 6,
   "metadata": {
    "collapsed": false
   },
   "outputs": [],
   "source": [
    "#!/usr/bin/env python\n",
    "\n",
    "import os\n",
    "import sys\n",
    "from IPython import embed\n",
    "\n",
    "import matplotlib\n",
    "#matplotlib.use('GTKAgg')\n",
    "\n",
    "import seaborn as sns\n",
    "import matplotlib.pyplot as plt\n",
    "\n",
    "import scipy.io as sio\n",
    "import numpy as np\n",
    "\n",
    "GROUND_TRUTH_PATH = os.path.expanduser(\n",
    "    '~/code/loop_closures/data/NewCollegeGroundTruth.mat')\n",
    "\n",
    "WORK_FOLDER = os.path.expanduser(\n",
    "    '~/code/loop_closures/out/')\n",
    "\n",
    "if __name__ == \"__main__\":\n",
    "    gt_data = sio.loadmat(GROUND_TRUTH_PATH)['truth'][::2, ::2]\n",
    "\n",
    "    bow_data = np.loadtxt(os.path.join(\n",
    "        WORK_FOLDER, 'confusion_matrix.txt'))\n",
    "    # Take the lower triangle only\n",
    "    bow_data = np.tril(bow_data, -1)\n",
    "\n",
    "    prec_recall_curve = []\n",
    "\n",
    "    for thresh in np.arange(0, 0.09, 0.002):\n",
    "        # precision: fraction of retrieved instances that are relevant\n",
    "        # recall: fraction of relevant instances that are retrieved\n",
    "        true_positives = (bow_data > thresh) & (gt_data == 1)\n",
    "        all_positives = (bow_data > thresh)\n",
    "\n",
    "        try:\n",
    "            precision = float(np.sum(true_positives)) / np.sum(all_positives)\n",
    "            recall = float(np.sum(true_positives)) / np.sum(gt_data == 1)\n",
    "\n",
    "            prec_recall_curve.append([thresh, precision, recall])\n",
    "        except:\n",
    "            break\n",
    "\n",
    "    prec_recall_curve = np.array(prec_recall_curve)\n",
    "\n",
    "    plt.plot(prec_recall_curve[:, 1], prec_recall_curve[:, 2])\n",
    "\n",
    "    for thresh, prec, rec in prec_recall_curve[5::5]:\n",
    "        plt.annotate(\n",
    "            str(thresh),\n",
    "            xy=(prec, rec),\n",
    "            xytext=(8, 8),\n",
    "            textcoords='offset points')\n",
    "\n",
    "    plt.xlabel('Precision', fontsize=14)\n",
    "    plt.ylabel('Recall', fontsize=14)\n",
    "\n",
    "    plt.show()\n",
    "    plt.tight_layout()\n",
    "    plt.savefig(os.path.join(\n",
    "        WORK_FOLDER, 'prec_recall_curve.png'),\n",
    "        bbox_inches='tight')"
   ]
  },
  {
   "cell_type": "code",
   "execution_count": null,
   "metadata": {
    "collapsed": true
   },
   "outputs": [],
   "source": []
  }
 ],
 "metadata": {
  "kernelspec": {
   "display_name": "Python 2",
   "language": "python",
   "name": "python2"
  },
  "language_info": {
   "codemirror_mode": {
    "name": "ipython",
    "version": 2
   },
   "file_extension": ".py",
   "mimetype": "text/x-python",
   "name": "python",
   "nbconvert_exporter": "python",
   "pygments_lexer": "ipython2",
   "version": "2.7.13"
  }
 },
 "nbformat": 4,
 "nbformat_minor": 2
}
