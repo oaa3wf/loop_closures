{
 "cells": [
  {
   "cell_type": "code",
   "execution_count": 3,
   "metadata": {
    "collapsed": false
   },
   "outputs": [
    {
     "name": "stdout",
     "output_type": "stream",
     "text": [
      "(388, 21)\n"
     ]
    }
   ],
   "source": [
    "import matplotlib\n",
    "\n",
    "import seaborn as sns\n",
    "import matplotlib.pyplot as plt\n",
    "\n",
    "import scipy.io as sio\n",
    "import numpy as np\n",
    "\n",
    "from PIL import Image\n",
    "import pylab \n",
    "import matplotlib.cm as cm \n",
    "\n",
    "%matplotlib inline\n",
    "\n",
    "plt.rcParams['figure.figsize'] = (10, 10)\n",
    "plt.rcParams['image.interpolation'] = 'nearest'\n",
    "plt.rcParams['image.cmap'] = 'gray'\n",
    "\n",
    "filename = './LogI.txt'\n",
    "\n",
    "# load txt file as matrix\n",
    "\n",
    "data_matrix = np.loadtxt(filename)\n",
    "\n",
    "rows = data_matrix.shape[0]\n",
    "\n",
    "for r in xrange(0,rows):\n",
    "    if(data_matrix[r,0] > 0):\n",
    "        idx = data_matrix[r,1]\n",
    "        query_name = '%04d' % (r,)\n",
    "        solution_name = '%04d' % (idx-1,)\n",
    "    \n",
    "        name1 = '/home/sastrygrp2/code/loop_closures/data/Lip6IndoorDataSet/Images/' + query_name +'.jpg'\n",
    "        name2 = '/home/sastrygrp2/code/loop_closures/data/Lip6IndoorDataSet/Images/' + solution_name +'.jpg'\n",
    "        \n",
    "        f = pylab.figure()\n",
    "        for n, fname in enumerate((name1, name2)):\n",
    "            image=Image.open(fname).convert(\"L\")\n",
    "            arr=np.asarray(image)\n",
    "            f.add_subplot(2, 1, n+1)  # this line outputs images on top of each other\n",
    "            # f.add_subplot(1, 2, n)  # this line outputs images side-by-side\n",
    "            pylab.imshow(arr,cmap=cm.Greys_r)\n",
    "        pylab.title('Double image')\n",
    "        pylab.show()\n",
    "        \n",
    "        raw_input(\"Press Enter to continue...\")"
   ]
  },
  {
   "cell_type": "code",
   "execution_count": null,
   "metadata": {
    "collapsed": true
   },
   "outputs": [],
   "source": []
  }
 ],
 "metadata": {
  "kernelspec": {
   "display_name": "Python 2",
   "language": "python",
   "name": "python2"
  },
  "language_info": {
   "codemirror_mode": {
    "name": "ipython",
    "version": 2
   },
   "file_extension": ".py",
   "mimetype": "text/x-python",
   "name": "python",
   "nbconvert_exporter": "python",
   "pygments_lexer": "ipython2",
   "version": "2.7.13"
  }
 },
 "nbformat": 4,
 "nbformat_minor": 2
}
