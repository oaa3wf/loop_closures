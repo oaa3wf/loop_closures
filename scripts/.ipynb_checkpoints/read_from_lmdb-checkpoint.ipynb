{
 "cells": [
  {
   "cell_type": "code",
   "execution_count": null,
   "metadata": {
    "collapsed": true
   },
   "outputs": [],
   "source": [
    "import numpy as np\n",
    "import lmdb\n",
    "import caffe\n",
    "\n",
    "LMDB_PATH = '/home/sastrygrp/code/loop_closures/data/NewCollege.mdb'\n",
    "\n",
    "lmdb_env = lmdb.open(LMDB_PATH)\n",
    "lmdb_txn = lmdb_env.begin()\n",
    "lmdb_cursor = lmdb_txn.cursor()\n",
    "datum = caffe.proto.caffe_pb2.Datum()\n",
    "\n",
    "for key, value in lmdb_cursor:\n",
    "    datum.ParseFromString(value)\n",
    "    label = datum.label\n",
    "    data = caffe.io.datum_to_array(datum)\n",
    "    for l, d in zip(label, data):\n",
    "            print l, data.shape"
   ]
  }
 ],
 "metadata": {
  "kernelspec": {
   "display_name": "Python (nilmtk)",
   "language": "python",
   "name": "nilmtk-env"
  },
  "language_info": {
   "codemirror_mode": {
    "name": "ipython",
    "version": 2
   },
   "file_extension": ".py",
   "mimetype": "text/x-python",
   "name": "python",
   "nbconvert_exporter": "python",
   "pygments_lexer": "ipython2",
   "version": "2.7.13"
  }
 },
 "nbformat": 4,
 "nbformat_minor": 2
}
