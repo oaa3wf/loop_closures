{
 "cells": [
  {
   "cell_type": "code",
   "execution_count": null,
   "metadata": {
    "collapsed": false
   },
   "outputs": [],
   "source": [
    "import os\n",
    "import sys\n",
    "\n",
    "import matplotlib\n",
    "\n",
    "import seaborn as sns\n",
    "import matplotlib.pyplot as plt\n",
    "\n",
    "import scipy.io as sio\n",
    "import numpy as np\n",
    "\n",
    "from PIL import Image\n",
    "import pylab \n",
    "import matplotlib.cm as cm \n",
    "\n",
    "#GROUND_TRUTH_PATH = os.path.expanduser(\n",
    "#    '~/code/loop_closures/data/NewCollegeGroundTruth.mat')\n",
    "\n",
    "\n",
    "GROUND_TRUTH_PATH = os.path.expanduser(\n",
    "    '~/code/loop_closures/data/Lip6IndoorDataSet/Lip6IndoorGroundTruth.mat')\n",
    "\n",
    "#get ground truth data\n",
    "temp = sio.loadmat(GROUND_TRUTH_PATH)\n",
    "gt_data = sio.loadmat(GROUND_TRUTH_PATH)['truth']\n",
    "\n",
    "for keys in temp.items():\n",
    "    print(keys)\n",
    "    \n",
    "indices = np.where(gt_data == 1)\n",
    "#print(indices)\n",
    "m_key = indices[0]\n",
    "m_value = indices[1]\n",
    "\n",
    "m_dict = dict(zip(m_key,m_value));\n",
    "#print(m_dict)\n",
    "\n",
    "for key, value in m_dict.items():\n",
    "    \n",
    "    name1 = '%04d' % (key,)\n",
    "    name2 = '%04d' % (value,)\n",
    "    \n",
    "    name1 = '/home/sastrygrp/code/loop_closures/data/Lip6IndoorDataSet/Images/' + name1 +'.jpg'\n",
    "    name2 = '/home/sastrygrp/code/loop_closures/data/Lip6IndoorDataSet/Images/' + name2 +'.jpg'\n",
    "    \n",
    "    \n",
    "    f = pylab.figure()\n",
    "    for n, fname in enumerate((name1, name2)):\n",
    "        image=Image.open(fname).convert(\"L\")\n",
    "        arr=np.asarray(image)\n",
    "        f.add_subplot(2, 1, n+1)  # this line outputs images on top of each other\n",
    "        # f.add_subplot(1, 2, n)  # this line outputs images side-by-side\n",
    "        pylab.imshow(arr,cmap=cm.Greys_r)\n",
    "    pylab.title('Double image')\n",
    "    pylab.show()\n",
    "    \n",
    "    raw_input(\"Press Enter to continue...\")\n",
    "  \n",
    "  \n",
    "    print(name1)\n",
    "    print(name2)\n",
    "    "
   ]
  },
  {
   "cell_type": "code",
   "execution_count": null,
   "metadata": {
    "collapsed": true
   },
   "outputs": [],
   "source": []
  },
  {
   "cell_type": "code",
   "execution_count": null,
   "metadata": {
    "collapsed": true
   },
   "outputs": [],
   "source": []
  }
 ],
 "metadata": {
  "kernelspec": {
   "display_name": "Python (nilmtk)",
   "language": "python",
   "name": "nilmtk-env"
  },
  "language_info": {
   "codemirror_mode": {
    "name": "ipython",
    "version": 2
   },
   "file_extension": ".py",
   "mimetype": "text/x-python",
   "name": "python",
   "nbconvert_exporter": "python",
   "pygments_lexer": "ipython2",
   "version": "2.7.13"
  }
 },
 "nbformat": 4,
 "nbformat_minor": 2
}
